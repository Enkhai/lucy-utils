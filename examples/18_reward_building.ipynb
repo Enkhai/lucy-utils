{
 "cells": [
  {
   "cell_type": "markdown",
   "id": "57761d62",
   "metadata": {},
   "source": [
    "# Reward building"
   ]
  },
  {
   "cell_type": "markdown",
   "id": "98637969",
   "metadata": {},
   "source": [
    "# Overview of ideas:\n",
    "\n",
    "Utility / potential / shaping combined reward function candidates:\n",
    "- Align ball:\n",
    "\t- expected values are higher near the player team goal - not that great, need to make sure weight is not that high\n",
    "\t- could be enhanced by:\n",
    "\t\t- distance ball to goal: \n",
    "\t\t\t- alignment + near goal means higher probability of scoring while also securing\n",
    "\t\t\t- problem: opponent team could tackle the player and have the ball move toward team goal in a straight line very quickly\n",
    "\t\t\t- idea: use the ball distance difference between the two goals. This way alignment is scored higher near the center and lower near the goals.\n",
    "\t\t- velocity player to ball:\n",
    "\t\t\t- velocity + alignment could throw the ball directly into the goal\n",
    "\t\t\t- problem: moving forward with high velocity and having to move backward if ball not scored can take time and is costly\n",
    "- Ball to goal wall distance / y coord:\n",
    "\t- the higher the y axis value the more the team pushes the opponent team to defend\n",
    "- Distance ball to goal: \n",
    "\t- one of the two best possible rewards\n",
    "- Distance player to ball:\n",
    "\t- increases control strength\n",
    "- Velocity ball to goal: \n",
    "\t- one of the two best possible rewards\n",
    "\t- increases probability of scoring\n",
    "- Velocity player to ball:\n",
    "\t- mediocre as a reward BUT\n",
    "\t- idea: enhance by player to ball and ball to goal offensive vector alignment\n",
    "    - idea extended: include player to ball distance, players that are far away have a very low chance of scoring. Reward name idea: offensive potential.\n",
    "\n",
    "Reward:\n",
    "- Touch ball with acceleration (difference between current and previous ball linear velocity) toward goal (current ball linear velocity vector)\n",
    "- Save boost reward inversely weighted by the absolute value of the utility score:\n",
    "\t- the larger or smaller the utility, the more in demand would be to use boost\n",
    "- Event rewards:\n",
    "\t- Demolish and demolished\n",
    "\t- Goal / team goal and concede\n",
    "\t- Shot (as detected by the game)\n",
    "\t- Save (as detected by the game)\n",
    "\n",
    "------\n",
    "\n",
    "- But what kind of weights?\n",
    "- How to distribute reward between multiple agents of different purposes?\n"
   ]
  },
  {
   "cell_type": "markdown",
   "id": "c6e70c8d",
   "metadata": {},
   "source": [
    "Import needed libraries"
   ]
  },
  {
   "cell_type": "code",
   "execution_count": 1,
   "id": "a4c6db3c",
   "metadata": {},
   "outputs": [],
   "source": [
    "import sys\n",
    "from pathlib import Path\n",
    "\n",
    "# Modify this as you wish, used for importing custom project packages, such as `utils`\n",
    "project_path = str(Path.home()) + \"\\\\Projects\\\\rlgym_demo\"\n",
    "\n",
    "sys.path.insert(0, project_path)"
   ]
  },
  {
   "cell_type": "code",
   "execution_count": 2,
   "id": "600c544d",
   "metadata": {},
   "outputs": [],
   "source": [
    "import numpy as np\n",
    "import matplotlib.pyplot as plt\n",
    "from utils.analysis import plotting, generate\n",
    "from utils.analysis.reward_functions import common, custom\n",
    "from rlgym.utils import common_values\n",
    "import pandas as pd\n",
    "import seaborn as sns"
   ]
  },
  {
   "cell_type": "markdown",
   "id": "f9d995c0",
   "metadata": {},
   "source": [
    "Retrieve arena positions"
   ]
  },
  {
   "cell_type": "code",
   "execution_count": 3,
   "id": "60d6b5cd",
   "metadata": {},
   "outputs": [],
   "source": [
    "arena_positions = plotting.arena_positions"
   ]
  },
  {
   "cell_type": "markdown",
   "id": "5a145e78",
   "metadata": {},
   "source": [
    "Generate uniformly distributed dummy data"
   ]
  },
  {
   "cell_type": "code",
   "execution_count": 4,
   "id": "f2497b90",
   "metadata": {},
   "outputs": [],
   "source": [
    "grid_positions = generate.grid_positions()\n",
    "player_velocities = np.linspace((1327.9,) * 3, (0,) * 3, 8)\n",
    "ball_velocities = np.linspace((3464.1,) * 3, (0,) * 3, 8)\n",
    "forward_vectors = generate.sphere_points()"
   ]
  },
  {
   "cell_type": "markdown",
   "id": "3f036339",
   "metadata": {},
   "source": [
    "Training measurements"
   ]
  },
  {
   "cell_type": "code",
   "execution_count": 5,
   "id": "00d717a6",
   "metadata": {},
   "outputs": [],
   "source": [
    "# maximum episode length in seconds\n",
    "max_episode_len = 300\n",
    "# default frame skip\n",
    "frame_skip = 8\n",
    "# the number of seconds it takes the gamma exponential to reach 0.5\n",
    "half_life_seconds = 10\n",
    "# game physics engine runs at 120 Hz\\fps\n",
    "fps = 120 // frame_skip\n",
    "# inverse function gamma computation\n",
    "gamma = np.exp(np.log(0.5) / (fps * half_life_seconds))"
   ]
  },
  {
   "cell_type": "code",
   "execution_count": 6,
   "id": "5e7f9bfa",
   "metadata": {},
   "outputs": [
    {
     "data": {
      "text/plain": [
       "0.9953896791032291"
      ]
     },
     "execution_count": 6,
     "metadata": {},
     "output_type": "execute_result"
    }
   ],
   "source": [
    "gamma"
   ]
  },
  {
   "cell_type": "markdown",
   "id": "a96ad823",
   "metadata": {},
   "source": [
    "Assumed average values for a normal game"
   ]
  },
  {
   "cell_type": "code",
   "execution_count": null,
   "id": "47432d9d",
   "metadata": {},
   "outputs": [],
   "source": [
    "average_ball_vel = common_values.BALL_MAX_SPEED // 2 // fps\n",
    "average_car_vel = common_values.CAR_MAX_SPEED // 2 // fps\n",
    "\n",
    "average_ball_height = 900\n",
    "average_car_height = 700\n",
    "# We assume a case for which the blue team is winning in offense / scoring a goal\n",
    "average_ball2goal_vel = 1500 // fps\n",
    "average_car2ball_vel = 850 // fps\n",
    "\n"
   ]
  },
  {
   "cell_type": "markdown",
   "id": "d801dd20",
   "metadata": {},
   "source": [
    "## Utility function"
   ]
  }
 ],
 "metadata": {
  "kernelspec": {
   "display_name": "Python 3 (ipykernel)",
   "language": "python",
   "name": "python3"
  },
  "language_info": {
   "codemirror_mode": {
    "name": "ipython",
    "version": 3
   },
   "file_extension": ".py",
   "mimetype": "text/x-python",
   "name": "python",
   "nbconvert_exporter": "python",
   "pygments_lexer": "ipython3",
   "version": "3.8.12"
  }
 },
 "nbformat": 4,
 "nbformat_minor": 5
}
