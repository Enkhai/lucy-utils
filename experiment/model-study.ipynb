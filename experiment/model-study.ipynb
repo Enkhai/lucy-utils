{
 "cells": [
  {
   "cell_type": "markdown",
   "id": "644322c2",
   "metadata": {},
   "source": [
    "# Model study"
   ]
  },
  {
   "cell_type": "code",
   "execution_count": 1,
   "id": "9300252e",
   "metadata": {},
   "outputs": [],
   "source": [
    "import sys\n",
    "from pathlib import Path\n",
    "\n",
    "# Modify this as you wish, used for importing custom project packages, such as `utils`\n",
    "project_path = str(Path.home()) + \"\\\\Projects\\\\rlgym_demo\"\n",
    "\n",
    "sys.path.insert(0, project_path)"
   ]
  },
  {
   "cell_type": "code",
   "execution_count": 2,
   "id": "9557a89d",
   "metadata": {},
   "outputs": [],
   "source": [
    "import torch\n",
    "from utils.algorithms import DeviceAlternatingPPO"
   ]
  },
  {
   "cell_type": "code",
   "execution_count": 3,
   "id": "cbb68573",
   "metadata": {},
   "outputs": [],
   "source": [
    "model = DeviceAlternatingPPO.load(\"../models/NectoTest_Perceiver/model_417280000_steps.zip\")"
   ]
  },
  {
   "cell_type": "code",
   "execution_count": 6,
   "id": "14b23e78",
   "metadata": {},
   "outputs": [],
   "source": [
    "actor = model.policy.mlp_extractor.actor\n",
    "critic = model.policy.mlp_extractor.critic"
   ]
  },
  {
   "cell_type": "markdown",
   "id": "2b26d112",
   "metadata": {},
   "source": [
    "## Actor"
   ]
  },
  {
   "cell_type": "markdown",
   "id": "bd2ab381",
   "metadata": {},
   "source": [
    "### Query"
   ]
  },
  {
   "cell_type": "code",
   "execution_count": 18,
   "id": "5af8cef4",
   "metadata": {},
   "outputs": [],
   "source": [
    "actor_query_params = list(actor.query_preprocess.parameters())"
   ]
  },
  {
   "cell_type": "code",
   "execution_count": 19,
   "id": "ffa079b0",
   "metadata": {},
   "outputs": [
    {
     "data": {
      "text/plain": [
       "torch.Size([128, 32])"
      ]
     },
     "execution_count": 19,
     "metadata": {},
     "output_type": "execute_result"
    }
   ],
   "source": [
    "actor_query_params[0].shape"
   ]
  },
  {
   "cell_type": "code",
   "execution_count": 20,
   "id": "f00ff367",
   "metadata": {},
   "outputs": [
    {
     "data": {
      "text/plain": [
       "torch.Size([128])"
      ]
     },
     "execution_count": 20,
     "metadata": {},
     "output_type": "execute_result"
    }
   ],
   "source": [
    "actor_query_params[1].shape"
   ]
  },
  {
   "cell_type": "code",
   "execution_count": 24,
   "id": "38e77b17",
   "metadata": {},
   "outputs": [
    {
     "data": {
      "text/plain": [
       "tensor(-0.8223, device='cuda:0', grad_fn=<MinBackward1>)"
      ]
     },
     "execution_count": 24,
     "metadata": {},
     "output_type": "execute_result"
    }
   ],
   "source": [
    "actor_query_params[0].min()"
   ]
  },
  {
   "cell_type": "code",
   "execution_count": 23,
   "id": "47c43631",
   "metadata": {},
   "outputs": [
    {
     "data": {
      "text/plain": [
       "tensor(0.7199, device='cuda:0', grad_fn=<MaxBackward1>)"
      ]
     },
     "execution_count": 23,
     "metadata": {},
     "output_type": "execute_result"
    }
   ],
   "source": [
    "actor_query_params[0].max()"
   ]
  },
  {
   "cell_type": "markdown",
   "id": "49c6adef",
   "metadata": {},
   "source": [
    "### KV"
   ]
  },
  {
   "cell_type": "code",
   "execution_count": 25,
   "id": "313c40a7",
   "metadata": {},
   "outputs": [],
   "source": [
    "actor_kv_params = list(actor.kv_preprocess.parameters())"
   ]
  },
  {
   "cell_type": "code",
   "execution_count": 26,
   "id": "f12882fa",
   "metadata": {},
   "outputs": [
    {
     "data": {
      "text/plain": [
       "torch.Size([128, 24])"
      ]
     },
     "execution_count": 26,
     "metadata": {},
     "output_type": "execute_result"
    }
   ],
   "source": [
    "actor_kv_params[0].shape"
   ]
  },
  {
   "cell_type": "code",
   "execution_count": 27,
   "id": "db1340dc",
   "metadata": {},
   "outputs": [
    {
     "data": {
      "text/plain": [
       "torch.Size([128])"
      ]
     },
     "execution_count": 27,
     "metadata": {},
     "output_type": "execute_result"
    }
   ],
   "source": [
    "actor_kv_params[1].shape"
   ]
  },
  {
   "cell_type": "code",
   "execution_count": 28,
   "id": "a1f6a3e7",
   "metadata": {},
   "outputs": [
    {
     "data": {
      "text/plain": [
       "tensor(-0.6827, device='cuda:0', grad_fn=<MinBackward1>)"
      ]
     },
     "execution_count": 28,
     "metadata": {},
     "output_type": "execute_result"
    }
   ],
   "source": [
    "actor_kv_params[0].min()"
   ]
  },
  {
   "cell_type": "code",
   "execution_count": 29,
   "id": "4d064ba5",
   "metadata": {},
   "outputs": [
    {
     "data": {
      "text/plain": [
       "tensor(0.6734, device='cuda:0', grad_fn=<MaxBackward1>)"
      ]
     },
     "execution_count": 29,
     "metadata": {},
     "output_type": "execute_result"
    }
   ],
   "source": [
    "actor_kv_params[0].max()"
   ]
  },
  {
   "cell_type": "markdown",
   "id": "a30f2bde",
   "metadata": {},
   "source": [
    "### Blocks"
   ]
  },
  {
   "cell_type": "code",
   "execution_count": 31,
   "id": "a7cc6cd7",
   "metadata": {},
   "outputs": [],
   "source": [
    "actor_blocks = actor.perceiver_blocks"
   ]
  },
  {
   "cell_type": "markdown",
   "id": "8a1380e8",
   "metadata": {},
   "source": [
    "#### Block 0"
   ]
  },
  {
   "cell_type": "code",
   "execution_count": 37,
   "id": "0a93c084",
   "metadata": {},
   "outputs": [
    {
     "data": {
      "text/plain": [
       "PerceiverBlock(\n",
       "  (cross_attention): MultiheadAttention(\n",
       "    (out_proj): NonDynamicallyQuantizableLinear(in_features=128, out_features=128, bias=True)\n",
       "  )\n",
       "  (linear1): Linear(in_features=128, out_features=128, bias=True)\n",
       "  (linear2): Linear(in_features=128, out_features=128, bias=True)\n",
       "  (activation): ReLU()\n",
       ")"
      ]
     },
     "execution_count": 37,
     "metadata": {},
     "output_type": "execute_result"
    }
   ],
   "source": [
    "actor_blocks[0]"
   ]
  },
  {
   "cell_type": "markdown",
   "id": "60431ed6",
   "metadata": {},
   "source": [
    "##### CA"
   ]
  },
  {
   "cell_type": "code",
   "execution_count": 52,
   "id": "073ee4ee",
   "metadata": {},
   "outputs": [],
   "source": [
    "actor_b0_ca = actor_blocks[0].cross_attention"
   ]
  },
  {
   "cell_type": "code",
   "execution_count": 56,
   "id": "f6b4a7e1",
   "metadata": {},
   "outputs": [],
   "source": [
    "actor_b0_ca_params = list(actor_b0_ca.parameters())"
   ]
  },
  {
   "cell_type": "code",
   "execution_count": 57,
   "id": "6b663728",
   "metadata": {},
   "outputs": [
    {
     "data": {
      "text/plain": [
       "torch.Size([384, 128])"
      ]
     },
     "execution_count": 57,
     "metadata": {},
     "output_type": "execute_result"
    }
   ],
   "source": [
    "actor_b0_ca_params[0].shape"
   ]
  },
  {
   "cell_type": "code",
   "execution_count": 62,
   "id": "288b56ea",
   "metadata": {},
   "outputs": [
    {
     "data": {
      "text/plain": [
       "torch.Size([384])"
      ]
     },
     "execution_count": 62,
     "metadata": {},
     "output_type": "execute_result"
    }
   ],
   "source": [
    "actor_b0_ca_params[1].shape"
   ]
  },
  {
   "cell_type": "code",
   "execution_count": 58,
   "id": "e40bc118",
   "metadata": {},
   "outputs": [
    {
     "data": {
      "text/plain": [
       "tensor(-0.5701, device='cuda:0', grad_fn=<MinBackward1>)"
      ]
     },
     "execution_count": 58,
     "metadata": {},
     "output_type": "execute_result"
    }
   ],
   "source": [
    "actor_b0_ca_params[0].min()"
   ]
  },
  {
   "cell_type": "code",
   "execution_count": 59,
   "id": "813c6021",
   "metadata": {},
   "outputs": [
    {
     "data": {
      "text/plain": [
       "tensor(0.5690, device='cuda:0', grad_fn=<MaxBackward1>)"
      ]
     },
     "execution_count": 59,
     "metadata": {},
     "output_type": "execute_result"
    }
   ],
   "source": [
    "actor_b0_ca_params[0].max()"
   ]
  },
  {
   "cell_type": "code",
   "execution_count": 60,
   "id": "f9285413",
   "metadata": {},
   "outputs": [
    {
     "data": {
      "text/plain": [
       "tensor(-0.3604, device='cuda:0', grad_fn=<MinBackward1>)"
      ]
     },
     "execution_count": 60,
     "metadata": {},
     "output_type": "execute_result"
    }
   ],
   "source": [
    "actor_b0_ca_params[1].min()"
   ]
  },
  {
   "cell_type": "code",
   "execution_count": 61,
   "id": "d784b4ac",
   "metadata": {},
   "outputs": [
    {
     "data": {
      "text/plain": [
       "tensor(0.4111, device='cuda:0', grad_fn=<MaxBackward1>)"
      ]
     },
     "execution_count": 61,
     "metadata": {},
     "output_type": "execute_result"
    }
   ],
   "source": [
    "actor_b0_ca_params[1].max()"
   ]
  },
  {
   "cell_type": "code",
   "execution_count": 63,
   "id": "719dca4d",
   "metadata": {},
   "outputs": [
    {
     "data": {
      "text/plain": [
       "torch.Size([128, 128])"
      ]
     },
     "execution_count": 63,
     "metadata": {},
     "output_type": "execute_result"
    }
   ],
   "source": [
    "actor_b0_ca_params[2].shape"
   ]
  },
  {
   "cell_type": "code",
   "execution_count": 64,
   "id": "aefb119e",
   "metadata": {},
   "outputs": [
    {
     "data": {
      "text/plain": [
       "tensor(-0.6607, device='cuda:0', grad_fn=<MinBackward1>)"
      ]
     },
     "execution_count": 64,
     "metadata": {},
     "output_type": "execute_result"
    }
   ],
   "source": [
    "actor_b0_ca_params[2].min()"
   ]
  },
  {
   "cell_type": "code",
   "execution_count": 65,
   "id": "8385dc1f",
   "metadata": {},
   "outputs": [
    {
     "data": {
      "text/plain": [
       "tensor(0.6100, device='cuda:0', grad_fn=<MaxBackward1>)"
      ]
     },
     "execution_count": 65,
     "metadata": {},
     "output_type": "execute_result"
    }
   ],
   "source": [
    "actor_b0_ca_params[2].max()"
   ]
  },
  {
   "cell_type": "code",
   "execution_count": 66,
   "id": "99ab8056",
   "metadata": {},
   "outputs": [
    {
     "data": {
      "text/plain": [
       "tensor(-0.1318, device='cuda:0', grad_fn=<MinBackward1>)"
      ]
     },
     "execution_count": 66,
     "metadata": {},
     "output_type": "execute_result"
    }
   ],
   "source": [
    "actor_b0_ca_params[3].min()"
   ]
  },
  {
   "cell_type": "code",
   "execution_count": 67,
   "id": "e4a2410c",
   "metadata": {},
   "outputs": [
    {
     "data": {
      "text/plain": [
       "tensor(0.0228, device='cuda:0', grad_fn=<MaxBackward1>)"
      ]
     },
     "execution_count": 67,
     "metadata": {},
     "output_type": "execute_result"
    }
   ],
   "source": [
    "actor_b0_ca_params[3].max()"
   ]
  },
  {
   "cell_type": "markdown",
   "id": "ac9afce1",
   "metadata": {},
   "source": [
    "##### Linear1"
   ]
  },
  {
   "cell_type": "code",
   "execution_count": 70,
   "id": "4c3c5915",
   "metadata": {},
   "outputs": [],
   "source": [
    "actor_b0_l1_params = list(actor_blocks[0].linear1.parameters())"
   ]
  },
  {
   "cell_type": "code",
   "execution_count": 74,
   "id": "c9a66a35",
   "metadata": {},
   "outputs": [
    {
     "data": {
      "text/plain": [
       "torch.Size([128, 128])"
      ]
     },
     "execution_count": 74,
     "metadata": {},
     "output_type": "execute_result"
    }
   ],
   "source": [
    "actor_b0_l1_params[0].shape"
   ]
  },
  {
   "cell_type": "code",
   "execution_count": 76,
   "id": "76fdb6f5",
   "metadata": {},
   "outputs": [
    {
     "data": {
      "text/plain": [
       "tensor(-0.6955, device='cuda:0', grad_fn=<MinBackward1>)"
      ]
     },
     "execution_count": 76,
     "metadata": {},
     "output_type": "execute_result"
    }
   ],
   "source": [
    "actor_b0_l1_params[0].min()"
   ]
  },
  {
   "cell_type": "code",
   "execution_count": 77,
   "id": "b5e3a3ef",
   "metadata": {},
   "outputs": [
    {
     "data": {
      "text/plain": [
       "tensor(0.6021, device='cuda:0', grad_fn=<MaxBackward1>)"
      ]
     },
     "execution_count": 77,
     "metadata": {},
     "output_type": "execute_result"
    }
   ],
   "source": [
    "actor_b0_l1_params[0].max()"
   ]
  },
  {
   "cell_type": "markdown",
   "id": "26139ed0",
   "metadata": {},
   "source": [
    "##### Linear2"
   ]
  },
  {
   "cell_type": "code",
   "execution_count": 78,
   "id": "e73fdd2e",
   "metadata": {},
   "outputs": [],
   "source": [
    "actor_b0_l2_params = list(actor_blocks[0].linear2.parameters())"
   ]
  },
  {
   "cell_type": "code",
   "execution_count": 79,
   "id": "29530f55",
   "metadata": {},
   "outputs": [
    {
     "data": {
      "text/plain": [
       "torch.Size([128, 128])"
      ]
     },
     "execution_count": 79,
     "metadata": {},
     "output_type": "execute_result"
    }
   ],
   "source": [
    "actor_b0_l2_params[0].shape"
   ]
  },
  {
   "cell_type": "code",
   "execution_count": 81,
   "id": "1a200ee2",
   "metadata": {},
   "outputs": [
    {
     "data": {
      "text/plain": [
       "tensor(-0.6539, device='cuda:0', grad_fn=<MinBackward1>)"
      ]
     },
     "execution_count": 81,
     "metadata": {},
     "output_type": "execute_result"
    }
   ],
   "source": [
    "actor_b0_l2_params[0].min()"
   ]
  },
  {
   "cell_type": "code",
   "execution_count": 82,
   "id": "ca0ef825",
   "metadata": {},
   "outputs": [
    {
     "data": {
      "text/plain": [
       "tensor(0.6930, device='cuda:0', grad_fn=<MaxBackward1>)"
      ]
     },
     "execution_count": 82,
     "metadata": {},
     "output_type": "execute_result"
    }
   ],
   "source": [
    "actor_b0_l2_params[0].max()"
   ]
  },
  {
   "cell_type": "code",
   "execution_count": 83,
   "id": "aff8fc98",
   "metadata": {},
   "outputs": [
    {
     "data": {
      "text/plain": [
       "tensor(0.0906, device='cuda:0', grad_fn=<MaxBackward1>)"
      ]
     },
     "execution_count": 83,
     "metadata": {},
     "output_type": "execute_result"
    }
   ],
   "source": [
    "actor_b0_l2_params[1].max()"
   ]
  },
  {
   "cell_type": "code",
   "execution_count": 84,
   "id": "3586dbd3",
   "metadata": {},
   "outputs": [
    {
     "data": {
      "text/plain": [
       "tensor(-0.1285, device='cuda:0', grad_fn=<MinBackward1>)"
      ]
     },
     "execution_count": 84,
     "metadata": {},
     "output_type": "execute_result"
    }
   ],
   "source": [
    "actor_b0_l2_params[1].min()"
   ]
  },
  {
   "cell_type": "markdown",
   "id": "3eefe5e5",
   "metadata": {},
   "source": [
    "#### Block 1"
   ]
  },
  {
   "cell_type": "code",
   "execution_count": 85,
   "id": "039342df",
   "metadata": {},
   "outputs": [
    {
     "data": {
      "text/plain": [
       "PerceiverBlock(\n",
       "  (cross_attention): MultiheadAttention(\n",
       "    (out_proj): NonDynamicallyQuantizableLinear(in_features=128, out_features=128, bias=True)\n",
       "  )\n",
       "  (linear1): Linear(in_features=128, out_features=128, bias=True)\n",
       "  (linear2): Linear(in_features=128, out_features=128, bias=True)\n",
       "  (activation): ReLU()\n",
       ")"
      ]
     },
     "execution_count": 85,
     "metadata": {},
     "output_type": "execute_result"
    }
   ],
   "source": [
    "actor_blocks[0]"
   ]
  },
  {
   "cell_type": "markdown",
   "id": "d0a03163",
   "metadata": {},
   "source": [
    "##### CA"
   ]
  },
  {
   "cell_type": "code",
   "execution_count": 86,
   "id": "a9f7eeeb",
   "metadata": {},
   "outputs": [],
   "source": [
    "actor_b1_ca = actor_blocks[1].cross_attention"
   ]
  },
  {
   "cell_type": "code",
   "execution_count": 87,
   "id": "2cc2fc1a",
   "metadata": {},
   "outputs": [],
   "source": [
    "actor_b1_ca_params = list(actor_b1_ca.parameters())"
   ]
  },
  {
   "cell_type": "code",
   "execution_count": 88,
   "id": "b2cc725d",
   "metadata": {},
   "outputs": [
    {
     "data": {
      "text/plain": [
       "torch.Size([384, 128])"
      ]
     },
     "execution_count": 88,
     "metadata": {},
     "output_type": "execute_result"
    }
   ],
   "source": [
    "actor_b1_ca_params[0].shape"
   ]
  },
  {
   "cell_type": "code",
   "execution_count": 89,
   "id": "6deab3d1",
   "metadata": {},
   "outputs": [
    {
     "data": {
      "text/plain": [
       "torch.Size([384])"
      ]
     },
     "execution_count": 89,
     "metadata": {},
     "output_type": "execute_result"
    }
   ],
   "source": [
    "actor_b1_ca_params[1].shape"
   ]
  },
  {
   "cell_type": "code",
   "execution_count": 90,
   "id": "2a4bea17",
   "metadata": {},
   "outputs": [
    {
     "data": {
      "text/plain": [
       "tensor(-0.5180, device='cuda:0', grad_fn=<MinBackward1>)"
      ]
     },
     "execution_count": 90,
     "metadata": {},
     "output_type": "execute_result"
    }
   ],
   "source": [
    "actor_b1_ca_params[0].min()"
   ]
  },
  {
   "cell_type": "code",
   "execution_count": 91,
   "id": "ed4d6553",
   "metadata": {},
   "outputs": [
    {
     "data": {
      "text/plain": [
       "tensor(0.5331, device='cuda:0', grad_fn=<MaxBackward1>)"
      ]
     },
     "execution_count": 91,
     "metadata": {},
     "output_type": "execute_result"
    }
   ],
   "source": [
    "actor_b1_ca_params[0].max()"
   ]
  },
  {
   "cell_type": "code",
   "execution_count": 92,
   "id": "d3aedb1e",
   "metadata": {},
   "outputs": [
    {
     "data": {
      "text/plain": [
       "tensor(-0.2598, device='cuda:0', grad_fn=<MinBackward1>)"
      ]
     },
     "execution_count": 92,
     "metadata": {},
     "output_type": "execute_result"
    }
   ],
   "source": [
    "actor_b1_ca_params[1].min()"
   ]
  },
  {
   "cell_type": "code",
   "execution_count": 93,
   "id": "b23bbbe9",
   "metadata": {},
   "outputs": [
    {
     "data": {
      "text/plain": [
       "tensor(0.3051, device='cuda:0', grad_fn=<MaxBackward1>)"
      ]
     },
     "execution_count": 93,
     "metadata": {},
     "output_type": "execute_result"
    }
   ],
   "source": [
    "actor_b1_ca_params[1].max()"
   ]
  },
  {
   "cell_type": "code",
   "execution_count": 94,
   "id": "78ca1ae8",
   "metadata": {},
   "outputs": [
    {
     "data": {
      "text/plain": [
       "torch.Size([128, 128])"
      ]
     },
     "execution_count": 94,
     "metadata": {},
     "output_type": "execute_result"
    }
   ],
   "source": [
    "actor_b1_ca_params[2].shape"
   ]
  },
  {
   "cell_type": "code",
   "execution_count": 95,
   "id": "55abcc81",
   "metadata": {},
   "outputs": [
    {
     "data": {
      "text/plain": [
       "tensor(-0.5312, device='cuda:0', grad_fn=<MinBackward1>)"
      ]
     },
     "execution_count": 95,
     "metadata": {},
     "output_type": "execute_result"
    }
   ],
   "source": [
    "actor_b1_ca_params[2].min()"
   ]
  },
  {
   "cell_type": "code",
   "execution_count": 96,
   "id": "d4098cfd",
   "metadata": {},
   "outputs": [
    {
     "data": {
      "text/plain": [
       "tensor(0.6229, device='cuda:0', grad_fn=<MaxBackward1>)"
      ]
     },
     "execution_count": 96,
     "metadata": {},
     "output_type": "execute_result"
    }
   ],
   "source": [
    "actor_b1_ca_params[2].max()"
   ]
  },
  {
   "cell_type": "code",
   "execution_count": 97,
   "id": "2329d0cf",
   "metadata": {},
   "outputs": [
    {
     "data": {
      "text/plain": [
       "tensor(-0.1230, device='cuda:0', grad_fn=<MinBackward1>)"
      ]
     },
     "execution_count": 97,
     "metadata": {},
     "output_type": "execute_result"
    }
   ],
   "source": [
    "actor_b1_ca_params[3].min()"
   ]
  },
  {
   "cell_type": "code",
   "execution_count": 98,
   "id": "e0660f8f",
   "metadata": {},
   "outputs": [
    {
     "data": {
      "text/plain": [
       "tensor(0.0861, device='cuda:0', grad_fn=<MaxBackward1>)"
      ]
     },
     "execution_count": 98,
     "metadata": {},
     "output_type": "execute_result"
    }
   ],
   "source": [
    "actor_b1_ca_params[3].max()"
   ]
  },
  {
   "cell_type": "markdown",
   "id": "f0a6db7f",
   "metadata": {},
   "source": [
    "##### Linear1"
   ]
  },
  {
   "cell_type": "code",
   "execution_count": 99,
   "id": "24111fd6",
   "metadata": {},
   "outputs": [],
   "source": [
    "actor_b1_l1_params = list(actor_blocks[1].linear1.parameters())"
   ]
  },
  {
   "cell_type": "code",
   "execution_count": 100,
   "id": "a7cf50e9",
   "metadata": {},
   "outputs": [
    {
     "data": {
      "text/plain": [
       "torch.Size([128, 128])"
      ]
     },
     "execution_count": 100,
     "metadata": {},
     "output_type": "execute_result"
    }
   ],
   "source": [
    "actor_b1_l1_params[0].shape"
   ]
  },
  {
   "cell_type": "code",
   "execution_count": 101,
   "id": "d6e3d417",
   "metadata": {},
   "outputs": [
    {
     "data": {
      "text/plain": [
       "tensor(-0.6809, device='cuda:0', grad_fn=<MinBackward1>)"
      ]
     },
     "execution_count": 101,
     "metadata": {},
     "output_type": "execute_result"
    }
   ],
   "source": [
    "actor_b1_l1_params[0].min()"
   ]
  },
  {
   "cell_type": "code",
   "execution_count": 102,
   "id": "8c4c271b",
   "metadata": {},
   "outputs": [
    {
     "data": {
      "text/plain": [
       "tensor(0.6743, device='cuda:0', grad_fn=<MaxBackward1>)"
      ]
     },
     "execution_count": 102,
     "metadata": {},
     "output_type": "execute_result"
    }
   ],
   "source": [
    "actor_b1_l1_params[0].max()"
   ]
  },
  {
   "cell_type": "markdown",
   "id": "6e8a8f3c",
   "metadata": {},
   "source": [
    "##### Linear2"
   ]
  },
  {
   "cell_type": "code",
   "execution_count": 103,
   "id": "e2dc36db",
   "metadata": {},
   "outputs": [],
   "source": [
    "actor_b1_l2_params = list(actor_blocks[1].linear2.parameters())"
   ]
  },
  {
   "cell_type": "code",
   "execution_count": 104,
   "id": "f36beae6",
   "metadata": {},
   "outputs": [
    {
     "data": {
      "text/plain": [
       "torch.Size([128, 128])"
      ]
     },
     "execution_count": 104,
     "metadata": {},
     "output_type": "execute_result"
    }
   ],
   "source": [
    "actor_b1_l2_params[0].shape"
   ]
  },
  {
   "cell_type": "code",
   "execution_count": 105,
   "id": "ccebb600",
   "metadata": {},
   "outputs": [
    {
     "data": {
      "text/plain": [
       "tensor(-0.6620, device='cuda:0', grad_fn=<MinBackward1>)"
      ]
     },
     "execution_count": 105,
     "metadata": {},
     "output_type": "execute_result"
    }
   ],
   "source": [
    "actor_b1_l2_params[0].min()"
   ]
  },
  {
   "cell_type": "code",
   "execution_count": 106,
   "id": "60db1e37",
   "metadata": {},
   "outputs": [
    {
     "data": {
      "text/plain": [
       "tensor(0.7386, device='cuda:0', grad_fn=<MaxBackward1>)"
      ]
     },
     "execution_count": 106,
     "metadata": {},
     "output_type": "execute_result"
    }
   ],
   "source": [
    "actor_b1_l2_params[0].max()"
   ]
  },
  {
   "cell_type": "code",
   "execution_count": 107,
   "id": "d6bce3c3",
   "metadata": {},
   "outputs": [
    {
     "data": {
      "text/plain": [
       "tensor(0.0908, device='cuda:0', grad_fn=<MaxBackward1>)"
      ]
     },
     "execution_count": 107,
     "metadata": {},
     "output_type": "execute_result"
    }
   ],
   "source": [
    "actor_b1_l2_params[1].max()"
   ]
  },
  {
   "cell_type": "code",
   "execution_count": 108,
   "id": "b437c5b6",
   "metadata": {},
   "outputs": [
    {
     "data": {
      "text/plain": [
       "tensor(-0.0910, device='cuda:0', grad_fn=<MinBackward1>)"
      ]
     },
     "execution_count": 108,
     "metadata": {},
     "output_type": "execute_result"
    }
   ],
   "source": [
    "actor_b1_l2_params[1].min()"
   ]
  },
  {
   "cell_type": "code",
   "execution_count": null,
   "id": "bfaeacfa",
   "metadata": {},
   "outputs": [],
   "source": []
  }
 ],
 "metadata": {
  "kernelspec": {
   "display_name": "Python 3 (ipykernel)",
   "language": "python",
   "name": "python3"
  },
  "language_info": {
   "codemirror_mode": {
    "name": "ipython",
    "version": 3
   },
   "file_extension": ".py",
   "mimetype": "text/x-python",
   "name": "python",
   "nbconvert_exporter": "python",
   "pygments_lexer": "ipython3",
   "version": "3.8.12"
  }
 },
 "nbformat": 4,
 "nbformat_minor": 5
}
