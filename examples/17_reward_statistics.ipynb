{
 "cells": [
  {
   "cell_type": "markdown",
   "id": "7c498eed",
   "metadata": {},
   "source": [
    "# Reward statistics"
   ]
  },
  {
   "cell_type": "code",
   "execution_count": 1,
   "id": "a4c680d0",
   "metadata": {},
   "outputs": [],
   "source": [
    "import sys\n",
    "from pathlib import Path\n",
    "\n",
    "# Modify this as you wish, used for importing custom project packages, such as `utils`\n",
    "project_path = str(Path.home()) + \"\\\\Projects\\\\rlgym_demo\"\n",
    "\n",
    "sys.path.insert(0, project_path)"
   ]
  },
  {
   "cell_type": "code",
   "execution_count": 2,
   "id": "95d8f682",
   "metadata": {},
   "outputs": [],
   "source": [
    "import numpy as np\n",
    "import matplotlib.pyplot as plt\n",
    "from utils.analysis import plotting\n",
    "from utils.analysis.reward_functions import common, extra, custom\n",
    "from rlgym.utils import common_values"
   ]
  },
  {
   "cell_type": "code",
   "execution_count": 3,
   "id": "885a3ffe",
   "metadata": {},
   "outputs": [],
   "source": [
    "arena_positions = plotting.arena_positions"
   ]
  },
  {
   "cell_type": "code",
   "execution_count": 4,
   "id": "df6e1436",
   "metadata": {},
   "outputs": [],
   "source": [
    "def generate_grid_positions(quarter_split=3, height=300):\n",
    "    xs = np.linspace(common_values.SIDE_WALL_X, \n",
    "                     -common_values.SIDE_WALL_X, \n",
    "                     2 * quarter_split + 1)\n",
    "    ys = np.linspace(common_values.BACK_WALL_Y, \n",
    "                     -common_values.BACK_WALL_Y, \n",
    "                     2 * quarter_split + 1)\n",
    "    \n",
    "    mesh_xs, mesh_ys = np.meshgrid(xs, ys)\n",
    "    positions = np.stack([mesh_xs, mesh_ys], axis=-1).reshape(-1, 2)\n",
    "    positions = np.hstack([positions, np.ones((positions.shape[0], 1)) * height])\n",
    "    \n",
    "    abs_positions = np.abs(positions)\n",
    "    not_below_corner_condition = (abs_positions[:, 0] + abs_positions[:, 1] < \n",
    "                                  common_values.SIDE_WALL_X + common_values.BACK_WALL_Y - 1152)\n",
    "    return positions[not_below_corner_condition]"
   ]
  },
  {
   "cell_type": "code",
   "execution_count": 5,
   "id": "17eca8c4",
   "metadata": {},
   "outputs": [],
   "source": [
    "ball_positions = generate_grid_positions()"
   ]
  },
  {
   "cell_type": "code",
   "execution_count": 6,
   "id": "b59ce018",
   "metadata": {},
   "outputs": [
    {
     "data": {
      "image/png": "[encoded data removed]",
      "text/plain": [
       "<Figure size 720x864 with 1 Axes>"
      ]
     },
     "metadata": {
      "needs_background": "light"
     },
     "output_type": "display_data"
    }
   ],
   "source": [
    "plt.figure(figsize=(10, 12))\n",
    "plt.scatter(ball_positions[:, 0], ball_positions[:, 1])\n",
    "plt.gca().invert_xaxis()\n",
    "plt.show()"
   ]
  },
  {
   "cell_type": "markdown",
   "id": "bff872fd",
   "metadata": {},
   "source": [
    "## Common"
   ]
  },
  {
   "cell_type": "code",
   "execution_count": 7,
   "id": "601c554f",
   "metadata": {},
   "outputs": [],
   "source": [
    "align_ball_zs = [common.align_ball(arena_positions, ball_position) for ball_position in ball_positions]"
   ]
  },
  {
   "cell_type": "code",
   "execution_count": null,
   "id": "0f86f167",
   "metadata": {},
   "outputs": [],
   "source": [
    "ball_y_coord_zs = common.ball_y_coord(arena_positions)"
   ]
  },
  {
   "cell_type": "markdown",
   "id": "0de7afcb",
   "metadata": {},
   "source": [
    "Skip conditionals, constants, events"
   ]
  },
  {
   "cell_type": "code",
   "execution_count": null,
   "id": "163af6ad",
   "metadata": {},
   "outputs": [],
   "source": [
    "angle0 = np.linspace(0, 2 * np.pi, )"
   ]
  },
  {
   "cell_type": "code",
   "execution_count": null,
   "id": "0a84d848",
   "metadata": {},
   "outputs": [],
   "source": [
    "[common.face_ball(arena_positions, ball_position)]"
   ]
  },
  {
   "cell_type": "code",
   "execution_count": null,
   "id": "0692c390",
   "metadata": {},
   "outputs": [],
   "source": [
    "common.liu_dist_ball2goal(arena_positions)"
   ]
  },
  {
   "cell_type": "code",
   "execution_count": null,
   "id": "56801f4b",
   "metadata": {},
   "outputs": [],
   "source": [
    "[common.liu_dist_player2ball(arena_positions, ball_position)]"
   ]
  },
  {
   "cell_type": "code",
   "execution_count": null,
   "id": "e18d1c06",
   "metadata": {},
   "outputs": [],
   "source": [
    "common.save_boost()"
   ]
  },
  {
   "cell_type": "code",
   "execution_count": null,
   "id": "005b0014",
   "metadata": {},
   "outputs": [],
   "source": [
    "common.touch_ball()"
   ]
  },
  {
   "cell_type": "code",
   "execution_count": null,
   "id": "ef671f69",
   "metadata": {},
   "outputs": [],
   "source": [
    "common.velocity()"
   ]
  },
  {
   "cell_type": "code",
   "execution_count": null,
   "id": "7b2e0b53",
   "metadata": {},
   "outputs": [],
   "source": [
    "[common.velocity_ball2goal(ball_position, ball_lin_velocity)]"
   ]
  },
  {
   "cell_type": "code",
   "execution_count": null,
   "id": "ffbb59ec",
   "metadata": {},
   "outputs": [],
   "source": [
    "[common.velocity_player2ball(arena_positions, ball_lin_velocity, ball_position)]"
   ]
  },
  {
   "cell_type": "markdown",
   "id": "72668f6c",
   "metadata": {},
   "source": [
    "## Extra"
   ]
  },
  {
   "cell_type": "markdown",
   "id": "8b9d1cfa",
   "metadata": {},
   "source": [
    "Skip extra rewards"
   ]
  },
  {
   "cell_type": "markdown",
   "id": "0b9c150d",
   "metadata": {},
   "source": [
    "## Custom"
   ]
  },
  {
   "cell_type": "code",
   "execution_count": null,
   "id": "caa888ac",
   "metadata": {},
   "outputs": [],
   "source": [
    "[custom.ball_y_coord(ball_position, exponent)]"
   ]
  },
  {
   "cell_type": "code",
   "execution_count": null,
   "id": "3aea3435",
   "metadata": {},
   "outputs": [],
   "source": [
    "[custom.liu_dist_player2ball(arena_positions, ball_position, dispersion, density)]"
   ]
  },
  {
   "cell_type": "code",
   "execution_count": null,
   "id": "2b219693",
   "metadata": {},
   "outputs": [],
   "source": [
    "custom.signed_liu_dist_ball2goal(arena_positions, dispersion, density)"
   ]
  },
  {
   "cell_type": "markdown",
   "id": "28ba6341",
   "metadata": {},
   "source": [
    "## Additional"
   ]
  },
  {
   "cell_type": "markdown",
   "id": "9481ceae",
   "metadata": {},
   "source": [
    "`common.liu_dist_ball2goal` orange minus blue goal distance difference, Necto style. Is signed Liu distance really useful?\n",
    "\n",
    "Thoughts: \n",
    "- Touch ball with acceleration (toward goal)?\n",
    "- Reward ball goal speed? Can I do with ball to goal velocity?\n",
    "- Opponent punish weight in distributed team spirit reward?\n",
    "- What is a good potential function?\n",
    "- How much does dribbling reward? (semi-continuous ball reward, ball z=150)"
   ]
  },
  {
   "cell_type": "code",
   "execution_count": null,
   "id": "22b4e6e0",
   "metadata": {},
   "outputs": [],
   "source": []
  }
 ],
 "metadata": {
  "kernelspec": {
   "display_name": "Python 3 (ipykernel)",
   "language": "python",
   "name": "python3"
  },
  "language_info": {
   "codemirror_mode": {
    "name": "ipython",
    "version": 3
   },
   "file_extension": ".py",
   "mimetype": "text/x-python",
   "name": "python",
   "nbconvert_exporter": "python",
   "pygments_lexer": "ipython3",
   "version": "3.8.12"
  }
 },
 "nbformat": 4,
 "nbformat_minor": 5
}